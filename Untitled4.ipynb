{
  "nbformat": 4,
  "nbformat_minor": 0,
  "metadata": {
    "colab": {
      "name": "Untitled4.ipynb",
      "provenance": [],
      "collapsed_sections": []
    },
    "kernelspec": {
      "name": "python3",
      "display_name": "Python 3"
    }
  },
  "cells": [
    {
      "cell_type": "code",
      "metadata": {
        "id": "rnxwL91hGhZJ",
        "colab_type": "code",
        "colab": {
          "base_uri": "https://localhost:8080/",
          "height": 110
        },
        "outputId": "2ec9166c-c2ac-4395-8a51-b7a28a999a55"
      },
      "source": [
        "!pip install scikit-learn"
      ],
      "execution_count": null,
      "outputs": [
        {
          "output_type": "stream",
          "text": [
            "Requirement already satisfied: scikit-learn in /usr/local/lib/python3.6/dist-packages (0.22.2.post1)\n",
            "Requirement already satisfied: joblib>=0.11 in /usr/local/lib/python3.6/dist-packages (from scikit-learn) (0.16.0)\n",
            "Requirement already satisfied: scipy>=0.17.0 in /usr/local/lib/python3.6/dist-packages (from scikit-learn) (1.4.1)\n",
            "Requirement already satisfied: numpy>=1.11.0 in /usr/local/lib/python3.6/dist-packages (from scikit-learn) (1.18.5)\n"
          ],
          "name": "stdout"
        }
      ]
    },
    {
      "cell_type": "code",
      "metadata": {
        "id": "ABTkzvQkHR3T",
        "colab_type": "code",
        "colab": {
          "base_uri": "https://localhost:8080/",
          "height": 35
        },
        "outputId": "0de5211f-6db8-4ac9-fba0-73849062e6d8"
      },
      "source": [
        "from sklearn import linear_model\n",
        "reg = linear_model.LinearRegression() \n",
        "import pandas as pd\n",
        "import numpy as np\n",
        "\n",
        "indata = pd.read_csv('INData.csv')\n",
        "fxdata = pd.read_csv('FxRates.csv')\n",
        "\n",
        "totalCases = indata['totalConfirmed'].values[:-3]\n",
        "newCases = []\n",
        "newCases.append(totalCases[0])\n",
        "for i in range(1,len(totalCases)):\n",
        "  newCases.append(totalCases[i]-totalCases[i-1])\n",
        "newCases = np.array(newCases)\n",
        "newCases = newCases.reshape((-1,1))\n",
        "fxChange = fxdata['INR Change'].values[30:]\n",
        "# print(len(newCases), len(fxChange))\n",
        "reg.fit(newCases, fxChange)"
      ],
      "execution_count": 2,
      "outputs": [
        {
          "output_type": "execute_result",
          "data": {
            "text/plain": [
              "LinearRegression(copy_X=True, fit_intercept=True, n_jobs=None, normalize=False)"
            ]
          },
          "metadata": {
            "tags": []
          },
          "execution_count": 2
        }
      ]
    },
    {
      "cell_type": "code",
      "metadata": {
        "id": "8SOzVS7KJTST",
        "colab_type": "code",
        "colab": {
          "base_uri": "https://localhost:8080/",
          "height": 35
        },
        "outputId": "0eeb77eb-e85c-4a8a-89cf-282b93800ccb"
      },
      "source": [
        "testcase = np.zeros((1,1))\n",
        "testcase[0][0] = 80000\n",
        "reg.predict(testcase)"
      ],
      "execution_count": 3,
      "outputs": [
        {
          "output_type": "execute_result",
          "data": {
            "text/plain": [
              "array([-0.02812138])"
            ]
          },
          "metadata": {
            "tags": []
          },
          "execution_count": 3
        }
      ]
    },
    {
      "cell_type": "code",
      "metadata": {
        "id": "8NvIJDWiLcYX",
        "colab_type": "code",
        "colab": {}
      },
      "source": [
        "import pickle\n",
        "model = open('rfregressor.pkl' , 'wb')\n",
        "pickle.dump(regressor , model)"
      ],
      "execution_count": 9,
      "outputs": []
    },
    {
      "cell_type": "code",
      "metadata": {
        "id": "T2MPjJjCMDsm",
        "colab_type": "code",
        "colab": {
          "base_uri": "https://localhost:8080/",
          "height": 145
        },
        "outputId": "ac69536f-1d13-4899-ef81-b3a8f058abf7"
      },
      "source": [
        "from sklearn.ensemble import RandomForestRegressor\n",
        "regressor = RandomForestRegressor(n_estimators = 100, random_state = 0) \n",
        "regressor.fit(newCases, fxChange)"
      ],
      "execution_count": 4,
      "outputs": [
        {
          "output_type": "execute_result",
          "data": {
            "text/plain": [
              "RandomForestRegressor(bootstrap=True, ccp_alpha=0.0, criterion='mse',\n",
              "                      max_depth=None, max_features='auto', max_leaf_nodes=None,\n",
              "                      max_samples=None, min_impurity_decrease=0.0,\n",
              "                      min_impurity_split=None, min_samples_leaf=1,\n",
              "                      min_samples_split=2, min_weight_fraction_leaf=0.0,\n",
              "                      n_estimators=100, n_jobs=None, oob_score=False,\n",
              "                      random_state=0, verbose=0, warm_start=False)"
            ]
          },
          "metadata": {
            "tags": []
          },
          "execution_count": 4
        }
      ]
    },
    {
      "cell_type": "code",
      "metadata": {
        "id": "QbwZ-V_eMPQd",
        "colab_type": "code",
        "colab": {
          "base_uri": "https://localhost:8080/",
          "height": 35
        },
        "outputId": "da9e5460-9c27-4b44-bf48-3763ef0ddffe"
      },
      "source": [
        "print(regressor.predict(testcase))\n",
        "def predict(i):\n",
        "  testcase = np.zeros((1,1))\n",
        "  testcase[0][0] = i\n",
        "  regressor.predict(testcase)"
      ],
      "execution_count": 6,
      "outputs": [
        {
          "output_type": "stream",
          "text": [
            "[-0.220009]\n"
          ],
          "name": "stdout"
        }
      ]
    },
    {
      "cell_type": "code",
      "metadata": {
        "id": "q_YXIse8OTOB",
        "colab_type": "code",
        "colab": {
          "base_uri": "https://localhost:8080/",
          "height": 119
        },
        "outputId": "4767c1e0-fe91-4127-efb4-34006c8c998e"
      },
      "source": [
        "# Message from \"Anish\"\n",
        "# Just a bit more to the finish line :)\n",
        "# Dump the regressor model into a pickle file and move this entire thing into your NDS along with the pickle file\n",
        "# Run the server and give me your NDS url\n",
        "# Also kindly test if the flask endpoint works or not\n",
        "\n",
        "from flask import Flask\n",
        "from flask import request\n",
        "from flask import request, jsonify\n",
        "app = Flask(__name__)\n",
        "\n",
        "@app.route('/api/<value>', methods = ['POST'])\n",
        "def user(value):\n",
        "    return jsonify(message= \"Success\",\n",
        "                  data= predict(value)), 200\n",
        "    \n",
        "if __name__ == \"__main__\":\n",
        "    app.run(port=3000)"
      ],
      "execution_count": null,
      "outputs": [
        {
          "output_type": "stream",
          "text": [
            " * Serving Flask app \"__main__\" (lazy loading)\n",
            " * Environment: production\n",
            "\u001b[31m   WARNING: This is a development server. Do not use it in a production deployment.\u001b[0m\n",
            "\u001b[2m   Use a production WSGI server instead.\u001b[0m\n",
            " * Debug mode: off\n"
          ],
          "name": "stdout"
        },
        {
          "output_type": "stream",
          "text": [
            " * Running on http://127.0.0.1:3000/ (Press CTRL+C to quit)\n"
          ],
          "name": "stderr"
        }
      ]
    },
    {
      "cell_type": "code",
      "metadata": {
        "id": "X9w-bU8Anahk",
        "colab_type": "code",
        "colab": {}
      },
      "source": [
        ""
      ],
      "execution_count": null,
      "outputs": []
    }
  ]
}